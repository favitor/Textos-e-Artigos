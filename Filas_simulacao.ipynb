{
  "nbformat": 4,
  "nbformat_minor": 0,
  "metadata": {
    "colab": {
      "provenance": []
    },
    "kernelspec": {
      "name": "python3",
      "display_name": "Python 3"
    },
    "language_info": {
      "name": "python"
    }
  },
  "cells": [
    {
      "cell_type": "markdown",
      "source": [
        "***Simulação da Fila Servidores Sem Prioriedade***"
      ],
      "metadata": {
        "id": "yXkRSyFJ1dA6"
      }
    },
    {
      "cell_type": "code",
      "source": [
        "pip install simpy"
      ],
      "metadata": {
        "id": "umAcJCKgVFKU"
      },
      "execution_count": null,
      "outputs": []
    },
    {
      "cell_type": "code",
      "execution_count": 40,
      "metadata": {
        "id": "3aWumokStv00"
      },
      "outputs": [],
      "source": [
        "#Bibliotecas utilizadas\n",
        "import simpy\n",
        "import random"
      ]
    },
    {
      "cell_type": "code",
      "source": [
        "#Variaveis\n",
        "tempo_simulacao = 60                #tempo em minutos da simulação\n",
        "n_servidores = 10                    #numero de servidores comuns\n",
        "n_servidores_pri = 0                #numero de servidores que atendem a fila priorietária\n",
        "taxa_chegada = 1                    #tempo de chegada de novos clientes\n",
        "tempo_c = 9                         #tempo médio de atendimento para cliente sem prioriedade\n",
        "tempo_p = 12                        #tempo médio de atendimento para cliente com prioriedade\n",
        "qtd_chamadas_c = 0                  #Quantidade de chamadas finalizadas de clientes comuns\n",
        "qtd_chamadas_p = 0                  #Quantidade de chamadas finalizadas de clientes priorietários\n",
        "prc_priorietario = 0.3              #porcentagem dos clientes priorietários\n",
        "tempo_espera_P = []\n",
        "tempo_espera_C = []"
      ],
      "metadata": {
        "id": "_m39MBRHRojt"
      },
      "execution_count": 41,
      "outputs": []
    },
    {
      "cell_type": "code",
      "source": [
        "#Função do processo de atendimento/fila\n",
        "def cliente(env, nome, tipo, atendentes):\n",
        "  chegada = env.now\n",
        "  print(f'{nome} chegou às {chegada:0.2f} minutos')\n",
        "\n",
        "  with atendentes.request() as req:\n",
        "    yield req\n",
        "    espera = env.now - chegada\n",
        "    print(f'{nome} ({tipo})começou atendimento às {env.now: .2f} (esperou {espera: .2f} minutos)')\n",
        "\n",
        "    #Duração do atendimento seguindo uma variancia conforme o tempo médio de atendimento\n",
        "    if tipo == 'P':\n",
        "      duracao = random.expovariate(1.0 / tempo_p)\n",
        "      tempo_espera_P.append(espera)\n",
        "    else:\n",
        "      duracao = random.expovariate(1.0 / tempo_c)\n",
        "      tempo_espera_C.append(espera)\n",
        "\n",
        "    yield env.timeout(duracao)\n",
        "    print(f'{nome} ({tipo})terminou atendimento às {env.now: .2f})')\n",
        "    if tipo == 'P':\n",
        "      global qtd_chamadas_p\n",
        "      qtd_chamadas_p += 1\n",
        "    else:\n",
        "      global qtd_chamadas_c\n",
        "      qtd_chamadas_c += 1\n",
        "\n",
        "\n",
        "#Geração de clinetes\n",
        "def gera_clientes(env, atendentes):\n",
        "  i = 0\n",
        "  while True:\n",
        "    yield env.timeout(random.expovariate(taxa_chegada))#tempo entre chegadas\n",
        "    i += 1\n",
        "    tipo = 'P' if random.random() < prc_priorietario else 'C'\n",
        "    env.process(cliente(env, f'Cliente {i}', tipo, atendentes))"
      ],
      "metadata": {
        "id": "oVca1T7kYuKe"
      },
      "execution_count": 42,
      "outputs": []
    },
    {
      "cell_type": "code",
      "source": [
        "#Ambiente de simulação da fila comum sem servidores priorietários\n",
        "env = simpy.Environment()\n",
        "atendentes = simpy.Resource(env, capacity=n_servidores)\n",
        "env.process(gera_clientes(env, atendentes))\n",
        "env.run(until=tempo_simulacao)"
      ],
      "metadata": {
        "id": "gg9df08FaMY8",
        "collapsed": true
      },
      "execution_count": null,
      "outputs": []
    },
    {
      "cell_type": "code",
      "source": [
        "print(f'Quantidade de chamadas com prioridade: {qtd_chamadas_p}')\n",
        "print(f'Quantidade de chamadas sem prioridade: {qtd_chamadas_c}')\n",
        "\n",
        "media_espera_C = sum(tempo_espera_C) / len(tempo_espera_C)\n",
        "print(f\"\\nTempo médio de espera fila comum: {media_espera_C:.2f} minutos\")\n",
        "\n",
        "media_espera_P = sum(tempo_espera_P) / len(tempo_espera_P)\n",
        "print(f\"\\nTempo médio de espera fila Priorietária: {media_espera_P:.2f} minutos\")"
      ],
      "metadata": {
        "id": "izJ0SXA1rlyl"
      },
      "execution_count": null,
      "outputs": []
    },
    {
      "cell_type": "markdown",
      "source": [
        "***Simulação da Fila com Servidores Prioritários***"
      ],
      "metadata": {
        "id": "iC_rB-7y1USg"
      }
    },
    {
      "cell_type": "code",
      "source": [
        "#Variaveis\n",
        "tempo_simulacao = 60                #tempo em minutos da simulação\n",
        "n_servidores = 6                    #numero de servidores comuns\n",
        "n_servidores_pri = 4                #numero de servidores que atendem a fila priorietária\n",
        "taxa_chegada = 1                    #tempo de chegada de novos clientes\n",
        "tempo_c = 9                         #tempo médio de atendimento para cliente sem prioriedade\n",
        "tempo_p = 12                        #tempo médio de atendimento para cliente com prioriedade\n",
        "qtd_chamadas_c = 0                  #Quantidade de chamadas finalizadas de clientes comuns\n",
        "qtd_chamadas_p = 0                  #Quantidade de chamadas finalizadas de clientes priorietários\n",
        "prc_priorietario = 0.3              #porcentagem dos clientes priorietários\n",
        "tempo_espera_P = []\n",
        "tempo_espera_C = []"
      ],
      "metadata": {
        "id": "iZ_LpLVj1aLa"
      },
      "execution_count": null,
      "outputs": []
    },
    {
      "cell_type": "code",
      "source": [
        "#Função do processo de atendimento/fila\n",
        "def cliente(env, nome, tipo, atendentes_p, atendentes_c):\n",
        "  chegada = env.now\n",
        "  print(f'{nome} chegou às {chegada:0.2f} minutos')\n",
        "\n",
        "  if tipo == 'P':\n",
        "    with atendentes_p.request() as req:\n",
        "      yield req\n",
        "      espera = env.now - chegada\n",
        "      tempo_espera_P.append(espera)\n",
        "      print(f'{nome} ({tipo})começou atendimento às {env.now: .2f} (esperou {espera: .2f} minutos)')\n",
        "      duracao = random.expovariate(1.0 / tempo_p)\n",
        "      yield env.timeout(duracao)\n",
        "      print(f\"{nome} ({tipo}) terminou atendimento às {env.now:.2f} min\")\n",
        "\n",
        "      global qtd_chamadas_p\n",
        "      qtd_chamadas_p += 1\n",
        "\n",
        "  else:\n",
        "    with atendentes_c.request() as req:\n",
        "      yield req\n",
        "      espera = env.now - chegada\n",
        "      tempo_espera_C.append(espera)\n",
        "      print(f'{nome} ({tipo})começou atendimento às {env.now: .2f} (esperou {espera: .2f} minutos)')\n",
        "      duracao = random.expovariate(1.0 / tempo_c)\n",
        "      yield env.timeout(duracao)\n",
        "      print(f\"{nome} ({tipo}) terminou atendimento às {env.now:.2f} min\")\n",
        "\n",
        "      global qtd_chamadas_c\n",
        "      qtd_chamadas_c += 1\n",
        "\n",
        "\n",
        "#Geração de clinetes\n",
        "def gera_clientes(env, atendentes_p, atendentes_c):\n",
        "  i = 0\n",
        "  while True:\n",
        "    yield env.timeout(random.expovariate(taxa_chegada))#tempo entre chegadas\n",
        "    i += 1\n",
        "    tipo = 'P' if random.random() < prc_priorietario else 'C'\n",
        "    env.process(cliente(env, f'Cliente {i}', tipo, atendentes_p, atendentes_c))"
      ],
      "metadata": {
        "id": "Mgp1jN05Opui"
      },
      "execution_count": null,
      "outputs": []
    },
    {
      "cell_type": "code",
      "source": [
        "#Ambiente de simulação da fila com servidores priorietários\n",
        "env = simpy.Environment()\n",
        "atendentes_p = simpy.Resource(env, capacity=n_servidores_pri)\n",
        "atendentes_c = simpy.Resource(env, capacity=n_servidores)\n",
        "env.process(gera_clientes(env, atendentes_p, atendentes_c))\n",
        "env.run(until=tempo_simulacao)"
      ],
      "metadata": {
        "collapsed": true,
        "id": "a27qBpSuW1Nl"
      },
      "execution_count": null,
      "outputs": []
    },
    {
      "cell_type": "code",
      "source": [
        "print(f'Quantidade de chamadas com prioridade: {qtd_chamadas_p}')\n",
        "print(f'Quantidade de chamadas sem prioridade: {qtd_chamadas_c}')\n",
        "\n",
        "media_espera_C = sum(tempo_espera_C) / len(tempo_espera_C)\n",
        "print(f\"\\nTempo médio de espera fila comum: {media_espera_C:.2f} minutos\")\n",
        "\n",
        "media_espera_P = sum(tempo_espera_P) / len(tempo_espera_P)\n",
        "print(f\"\\nTempo médio de espera fila Priorietária: {media_espera_P:.2f} minutos\")"
      ],
      "metadata": {
        "id": "OPdMS-IsW3Cm"
      },
      "execution_count": null,
      "outputs": []
    }
  ]
}